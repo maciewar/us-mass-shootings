{
 "cells": [
  {
   "cell_type": "markdown",
   "metadata": {},
   "source": [
    "# 1. Load"
   ]
  },
  {
   "cell_type": "code",
   "execution_count": 338,
   "metadata": {
    "collapsed": true
   },
   "outputs": [],
   "source": [
    "import pandas as pd\n",
    "import numpy as np\n",
    "import geopy\n",
    "import us"
   ]
  },
  {
   "cell_type": "code",
   "execution_count": 339,
   "metadata": {
    "collapsed": true
   },
   "outputs": [],
   "source": [
    "df = pd.read_csv(\"../data/Mass Shootings Dataset Ver 2.csv\", encoding = \"ISO-8859-1\")\n",
    "df.replace([np.NaN], [''], inplace=True)"
   ]
  },
  {
   "cell_type": "code",
   "execution_count": 340,
   "metadata": {},
   "outputs": [
    {
     "data": {
      "text/plain": [
       "Index(['S#', 'Title', 'Location', 'Date', 'Summary', 'Fatalities', 'Injured',\n",
       "       'Total victims', 'Mental Health Issues', 'Race', 'Gender', 'Latitude',\n",
       "       'Longitude'],\n",
       "      dtype='object')"
      ]
     },
     "execution_count": 340,
     "metadata": {},
     "output_type": "execute_result"
    }
   ],
   "source": [
    "df.columns"
   ]
  },
  {
   "cell_type": "markdown",
   "metadata": {},
   "source": [
    "# 2. Process"
   ]
  },
  {
   "cell_type": "markdown",
   "metadata": {},
   "source": [
    "## Title"
   ]
  },
  {
   "cell_type": "code",
   "execution_count": 341,
   "metadata": {},
   "outputs": [
    {
     "data": {
      "text/plain": [
       "0           Las Vegas Strip mass shooting\n",
       "1              San Francisco UPS shooting\n",
       "2       Pennsylvania supermarket shooting\n",
       "3    Florida awning manufacturer shooting\n",
       "4        Rural Ohio nursing home shooting\n",
       "Name: Title, dtype: object"
      ]
     },
     "execution_count": 341,
     "metadata": {},
     "output_type": "execute_result"
    }
   ],
   "source": [
    "df.Title.head()"
   ]
  },
  {
   "cell_type": "markdown",
   "metadata": {},
   "source": [
    "## Location"
   ]
  },
  {
   "cell_type": "code",
   "execution_count": 342,
   "metadata": {
    "collapsed": true
   },
   "outputs": [],
   "source": [
    "df.Location.replace(['Washington D.C.', ''],\n",
    "                    ['Washington, Washington', ','],\n",
    "                    inplace=True)"
   ]
  },
  {
   "cell_type": "code",
   "execution_count": 343,
   "metadata": {
    "collapsed": true
   },
   "outputs": [],
   "source": [
    "cities, raw_states = zip(*[value.rsplit(',', maxsplit=1) for value in df.Location.values])"
   ]
  },
  {
   "cell_type": "code",
   "execution_count": 344,
   "metadata": {
    "collapsed": true
   },
   "outputs": [],
   "source": [
    "df['Cities'] = cities"
   ]
  },
  {
   "cell_type": "code",
   "execution_count": 345,
   "metadata": {
    "collapsed": true
   },
   "outputs": [],
   "source": [
    "states = [us.states.lookup(raw_state.strip()).name if raw_state else '' for raw_state in raw_states]"
   ]
  },
  {
   "cell_type": "code",
   "execution_count": 346,
   "metadata": {
    "collapsed": true
   },
   "outputs": [],
   "source": [
    "df['State'] = states"
   ]
  },
  {
   "cell_type": "markdown",
   "metadata": {},
   "source": [
    "examples of multiple cities per one location:"
   ]
  },
  {
   "cell_type": "code",
   "execution_count": 347,
   "metadata": {
    "scrolled": true
   },
   "outputs": [
    {
     "name": "stdout",
     "output_type": "stream",
     "text": [
      "Pennsburg, Souderton, Lansdale, Harleysville, Pennsylvania\n",
      "South Valley, Albuquerque, New Mexico\n",
      "Nickel Mines, Lancaster, Pennsylvania\n",
      "Santee, San Diego, California\n"
     ]
    }
   ],
   "source": [
    "for location in df.Location.unique():\n",
    "    if len(location.split(',')) != 2:\n",
    "        print(location)"
   ]
  },
  {
   "cell_type": "code",
   "execution_count": 348,
   "metadata": {
    "collapsed": true
   },
   "outputs": [],
   "source": [
    "df.drop('Location', axis=1, inplace=True)"
   ]
  },
  {
   "cell_type": "markdown",
   "metadata": {},
   "source": [
    "## Date"
   ]
  },
  {
   "cell_type": "code",
   "execution_count": 349,
   "metadata": {},
   "outputs": [
    {
     "data": {
      "text/plain": [
       "0    10/1/2017\n",
       "1    6/14/2017\n",
       "2     6/7/2017\n",
       "3     6/5/2017\n",
       "4    5/12/2017\n",
       "Name: Date, dtype: object"
      ]
     },
     "execution_count": 349,
     "metadata": {},
     "output_type": "execute_result"
    }
   ],
   "source": [
    "df.Date.head()"
   ]
  },
  {
   "cell_type": "markdown",
   "metadata": {},
   "source": [
    "## Summary"
   ]
  },
  {
   "cell_type": "code",
   "execution_count": 350,
   "metadata": {},
   "outputs": [
    {
     "data": {
      "text/plain": [
       "0                                                     \n",
       "1    Jimmy Lam, 38, fatally shot three coworkers an...\n",
       "2    Randy Stair, a 24-year-old worker at Weis groc...\n",
       "3    John Robert Neumann, Jr., 45, a former employe...\n",
       "4    Thomas Hartless, 43, shot and killed a former ...\n",
       "Name: Summary, dtype: object"
      ]
     },
     "execution_count": 350,
     "metadata": {},
     "output_type": "execute_result"
    }
   ],
   "source": [
    "df.Summary.head()"
   ]
  },
  {
   "cell_type": "markdown",
   "metadata": {},
   "source": [
    "## Fatalities"
   ]
  },
  {
   "cell_type": "code",
   "execution_count": 351,
   "metadata": {},
   "outputs": [
    {
     "data": {
      "text/plain": [
       "array([58,  3,  5, 49,  0,  1,  4,  2,  6, 14, 16, 10,  8,  9,  7, 13, 28,\n",
       "       12, 11, 32, 15, 24, 22, 17])"
      ]
     },
     "execution_count": 351,
     "metadata": {},
     "output_type": "execute_result"
    }
   ],
   "source": [
    "df.Fatalities.unique()"
   ]
  },
  {
   "cell_type": "markdown",
   "metadata": {},
   "source": [
    "## Injured"
   ]
  },
  {
   "cell_type": "code",
   "execution_count": 352,
   "metadata": {},
   "outputs": [
    {
     "data": {
      "text/plain": [
       "array([527,   2,   0,   6,   3,  11,  53,   4,   5,   1,  14,  10,   7,\n",
       "        21,   9,  13,  12,  16,   8,  15,  70,  32,  23,  24,  25,  19,\n",
       "        20,  30])"
      ]
     },
     "execution_count": 352,
     "metadata": {},
     "output_type": "execute_result"
    }
   ],
   "source": [
    "df.Injured.unique()"
   ]
  },
  {
   "cell_type": "markdown",
   "metadata": {},
   "source": [
    "## Total victims"
   ]
  },
  {
   "cell_type": "code",
   "execution_count": 353,
   "metadata": {},
   "outputs": [
    {
     "data": {
      "text/plain": [
       "array([585,   5,   3,  11,   6,  16, 102,   4,   9,   8,   7,  17,  12,\n",
       "        35,  10,  19,  15,  29,  82,  45,  18,  26,  13,  55,  14,  21,\n",
       "        37,  27,  25,  43,  20,  40,  22,  48])"
      ]
     },
     "execution_count": 353,
     "metadata": {},
     "output_type": "execute_result"
    }
   ],
   "source": [
    "df['Total victims'].unique()"
   ]
  },
  {
   "cell_type": "code",
   "execution_count": 354,
   "metadata": {},
   "outputs": [
    {
     "data": {
      "text/plain": [
       "False"
      ]
     },
     "execution_count": 354,
     "metadata": {},
     "output_type": "execute_result"
    }
   ],
   "source": [
    "all(df.Fatalities.values + df.Injured.values == df['Total victims'].values)"
   ]
  },
  {
   "cell_type": "markdown",
   "metadata": {},
   "source": [
    "Total victims inconsistency:"
   ]
  },
  {
   "cell_type": "code",
   "execution_count": 355,
   "metadata": {},
   "outputs": [
    {
     "name": "stdout",
     "output_type": "stream",
     "text": [
      "1 + 4 != 4\n",
      "0 + 3 != 4\n",
      "3 + 1 != 3\n",
      "2 + 2 != 3\n",
      "2 + 2 != 3\n",
      "2 + 2 != 3\n",
      "4 + 0 != 3\n",
      "4 + 0 != 3\n",
      "2 + 2 != 3\n",
      "5 + 0 != 4\n",
      "4 + 14 != 17\n"
     ]
    }
   ],
   "source": [
    "for f, i, t, _ in zip(df.Fatalities.values, df.Injured.values, df['Total victims'].values, range(50)):\n",
    "    if f + i != t:\n",
    "        print(f, '+', i, '!=', t)"
   ]
  },
  {
   "cell_type": "markdown",
   "metadata": {},
   "source": [
    "possible differences:"
   ]
  },
  {
   "cell_type": "code",
   "execution_count": 356,
   "metadata": {},
   "outputs": [
    {
     "data": {
      "text/plain": [
       "array([-3, -2, -1,  0,  1,  2])"
      ]
     },
     "execution_count": 356,
     "metadata": {},
     "output_type": "execute_result"
    }
   ],
   "source": [
    "np.unique(df.Fatalities.values + df.Injured.values - df['Total victims'].values)"
   ]
  },
  {
   "cell_type": "markdown",
   "metadata": {},
   "source": [
    "## Mental Health Issues"
   ]
  },
  {
   "cell_type": "code",
   "execution_count": 357,
   "metadata": {},
   "outputs": [
    {
     "data": {
      "text/plain": [
       "array(['Unclear', 'Yes', 'Unknown', 'No', 'unknown'], dtype=object)"
      ]
     },
     "execution_count": 357,
     "metadata": {},
     "output_type": "execute_result"
    }
   ],
   "source": [
    "df['Mental Health Issues'].unique()"
   ]
  },
  {
   "cell_type": "code",
   "execution_count": 358,
   "metadata": {
    "collapsed": true
   },
   "outputs": [],
   "source": [
    "df['Mental Health Issues'].replace(['Unclear', 'Unknown', 'unknown'], \n",
    "                                   ['Unknown', 'Unknown', 'Unknown'], inplace=True)"
   ]
  },
  {
   "cell_type": "code",
   "execution_count": 359,
   "metadata": {},
   "outputs": [
    {
     "data": {
      "text/plain": [
       "array(['Unknown', 'Yes', 'No'], dtype=object)"
      ]
     },
     "execution_count": 359,
     "metadata": {},
     "output_type": "execute_result"
    }
   ],
   "source": [
    "df['Mental Health Issues'].unique()"
   ]
  },
  {
   "cell_type": "markdown",
   "metadata": {},
   "source": [
    "## Race"
   ]
  },
  {
   "cell_type": "code",
   "execution_count": 360,
   "metadata": {},
   "outputs": [
    {
     "data": {
      "text/plain": [
       "array(['White', 'Asian', '', 'Black', 'Latino', 'Other', 'Unknown',\n",
       "       'Black American or African American',\n",
       "       'White American or European American', 'Asian American',\n",
       "       'Some other race', 'Two or more races',\n",
       "       'Black American or African American/Unknown',\n",
       "       'White American or European American/Some other Race',\n",
       "       'Native American or Alaska Native', 'white', 'black',\n",
       "       'Asian American/Some other race'], dtype=object)"
      ]
     },
     "execution_count": 360,
     "metadata": {},
     "output_type": "execute_result"
    }
   ],
   "source": [
    "df.Race.unique()"
   ]
  },
  {
   "cell_type": "code",
   "execution_count": 361,
   "metadata": {
    "collapsed": true
   },
   "outputs": [],
   "source": [
    "df.Race.replace(['white', 'Some other race', 'Two or more races', 'black', 'Other',\n",
    "                 'White American or European American/Some other Race',\n",
    "                 'Black American or African American/Unknown', \n",
    "                 'Asian American/Some other race', ''], \n",
    "                \n",
    "                ['White', 'Other', 'Mixed', 'Black', 'Unknown', \n",
    "                 'Unknown', 'Unknown', 'Unknown', 'Unknown'], \n",
    "                \n",
    "                inplace=True)"
   ]
  },
  {
   "cell_type": "code",
   "execution_count": 362,
   "metadata": {},
   "outputs": [
    {
     "data": {
      "text/plain": [
       "array(['White', 'Asian', 'Unknown', 'Black', 'Latino',\n",
       "       'Black American or African American',\n",
       "       'White American or European American', 'Asian American', 'Mixed',\n",
       "       'Native American or Alaska Native'], dtype=object)"
      ]
     },
     "execution_count": 362,
     "metadata": {},
     "output_type": "execute_result"
    }
   ],
   "source": [
    "df.Race.unique()"
   ]
  },
  {
   "cell_type": "markdown",
   "metadata": {},
   "source": [
    "## Gender"
   ]
  },
  {
   "cell_type": "code",
   "execution_count": 363,
   "metadata": {},
   "outputs": [
    {
     "data": {
      "text/plain": [
       "array(['M', 'Unknown', 'Male', 'M/F', 'Male/Female', 'Female'], dtype=object)"
      ]
     },
     "execution_count": 363,
     "metadata": {},
     "output_type": "execute_result"
    }
   ],
   "source": [
    "df.Gender.unique()"
   ]
  },
  {
   "cell_type": "code",
   "execution_count": 364,
   "metadata": {
    "collapsed": true
   },
   "outputs": [],
   "source": [
    "df.Gender.replace(['Male', 'Male/Female', 'Female'],\n",
    "                  ['M', 'M/F', 'F'],\n",
    "                  inplace=True)"
   ]
  },
  {
   "cell_type": "code",
   "execution_count": 365,
   "metadata": {},
   "outputs": [
    {
     "data": {
      "text/plain": [
       "array(['M', 'Unknown', 'M/F', 'F'], dtype=object)"
      ]
     },
     "execution_count": 365,
     "metadata": {},
     "output_type": "execute_result"
    }
   ],
   "source": [
    "df.Gender.unique()"
   ]
  },
  {
   "cell_type": "markdown",
   "metadata": {},
   "source": [
    "## Latitude"
   ]
  },
  {
   "cell_type": "code",
   "execution_count": 366,
   "metadata": {
    "scrolled": true
   },
   "outputs": [
    {
     "data": {
      "text/plain": [
       "0    36.1813\n",
       "1           \n",
       "2           \n",
       "3           \n",
       "4           \n",
       "Name: Latitude, dtype: object"
      ]
     },
     "execution_count": 366,
     "metadata": {},
     "output_type": "execute_result"
    }
   ],
   "source": [
    "df.Latitude.head()"
   ]
  },
  {
   "cell_type": "markdown",
   "metadata": {},
   "source": [
    "## Longitude"
   ]
  },
  {
   "cell_type": "code",
   "execution_count": 367,
   "metadata": {
    "scrolled": true
   },
   "outputs": [
    {
     "data": {
      "text/plain": [
       "0   -115.134\n",
       "1           \n",
       "2           \n",
       "3           \n",
       "4           \n",
       "Name: Longitude, dtype: object"
      ]
     },
     "execution_count": 367,
     "metadata": {},
     "output_type": "execute_result"
    }
   ],
   "source": [
    "df.Longitude.head()"
   ]
  },
  {
   "cell_type": "markdown",
   "metadata": {},
   "source": [
    "## Fill missing states based on coordinates"
   ]
  },
  {
   "cell_type": "code",
   "execution_count": 368,
   "metadata": {
    "collapsed": true
   },
   "outputs": [],
   "source": [
    "missing_state_latitudes = df.Latitude[df.State == ''].values\n",
    "missing_state_longitudes = df.Longitude[df.State == ''].values"
   ]
  },
  {
   "cell_type": "code",
   "execution_count": 369,
   "metadata": {},
   "outputs": [],
   "source": [
    "geotagger = geopy.GoogleV3()\n",
    "\n",
    "def coordinates_to_state_name(latitude, longitude):\n",
    "    try:\n",
    "        query = f'{latitude}, {longitude}'\n",
    "        result = geotagger.reverse(query)\n",
    "        \n",
    "        address_elements = result[1].address.split(',')\n",
    "        state_string = address_elements[-2] \n",
    "        state_code = state_string.split()[0]\n",
    "        state_name = us.states.lookup(state_code).name\n",
    "        return state_name\n",
    "    \n",
    "    except IndexError:\n",
    "        print('Missing state name', result)\n",
    "    \n",
    "    except Exception:\n",
    "        print('Bad request', query)\n",
    "    \n",
    "    return ''"
   ]
  },
  {
   "cell_type": "code",
   "execution_count": 370,
   "metadata": {
    "scrolled": true
   },
   "outputs": [],
   "source": [
    "missing_state_names = [\n",
    "    coordinates_to_state_name(latitude, longitude)\n",
    "    for latitude, longitude in zip(missing_state_latitudes, missing_state_longitudes)\n",
    "]"
   ]
  },
  {
   "cell_type": "code",
   "execution_count": 371,
   "metadata": {},
   "outputs": [
    {
     "name": "stderr",
     "output_type": "stream",
     "text": [
      "/home/maciej/miniconda3/envs/ed/lib/python3.6/site-packages/ipykernel_launcher.py:1: SettingWithCopyWarning: \n",
      "A value is trying to be set on a copy of a slice from a DataFrame\n",
      "\n",
      "See the caveats in the documentation: http://pandas.pydata.org/pandas-docs/stable/indexing.html#indexing-view-versus-copy\n",
      "  \"\"\"Entry point for launching an IPython kernel.\n"
     ]
    }
   ],
   "source": [
    "df.State[df.State == ''] = missing_state_names"
   ]
  },
  {
   "cell_type": "markdown",
   "metadata": {},
   "source": [
    "# 3. Save"
   ]
  },
  {
   "cell_type": "code",
   "execution_count": 372,
   "metadata": {
    "collapsed": true
   },
   "outputs": [],
   "source": [
    "df.drop('Summary', axis=1, inplace=True)"
   ]
  },
  {
   "cell_type": "code",
   "execution_count": 373,
   "metadata": {
    "collapsed": true
   },
   "outputs": [],
   "source": [
    "df.to_csv(\"../data/Mass Shootings Dataset Ver 2 clean.csv\", encoding = \"ISO-8859-1\", index=False)"
   ]
  }
 ],
 "metadata": {
  "kernelspec": {
   "display_name": "Python 3.6 (ed)",
   "language": "python",
   "name": "ed"
  },
  "language_info": {
   "codemirror_mode": {
    "name": "ipython",
    "version": 3
   },
   "file_extension": ".py",
   "mimetype": "text/x-python",
   "name": "python",
   "nbconvert_exporter": "python",
   "pygments_lexer": "ipython3",
   "version": "3.6.2"
  }
 },
 "nbformat": 4,
 "nbformat_minor": 2
}
